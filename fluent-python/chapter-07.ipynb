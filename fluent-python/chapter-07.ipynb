{
 "cells": [
  {
   "cell_type": "code",
   "execution_count": 5,
   "metadata": {},
   "outputs": [
    {
     "name": "stdout",
     "output_type": "stream",
     "text": [
      "running register(<function f1 at 0x7fd1fc3d3b70>)\n",
      "running register(<function f2 at 0x7fd1fc3d3ea0>)\n",
      "running main()\n",
      "registry -> [<function f1 at 0x7fd1fc3d3b70>, <function f2 at 0x7fd1fc3d3ea0>]\n",
      "running f1()\n",
      "running f2()\n",
      "running f3()\n"
     ]
    }
   ],
   "source": [
    "registry= []\n",
    "\n",
    "def register(func):\n",
    "    print('running register(%s)'%func)\n",
    "    registry.append(func)\n",
    "    return func\n",
    "\n",
    "@register\n",
    "def f1():\n",
    "    print('running f1()')\n",
    "\n",
    "@register\n",
    "def f2():\n",
    "    print('running f2()')\n",
    "\n",
    "\n",
    "def f3():\n",
    "    print('running f3()')\n",
    "\n",
    "if __name__ == '__main__':\n",
    "    print('running main()')\n",
    "    print('registry ->', registry)\n",
    "    f1()\n",
    "    f2()\n",
    "    f3()"
   ]
  },
  {
   "cell_type": "code",
   "execution_count": 9,
   "metadata": {
    "collapsed": true
   },
   "outputs": [],
   "source": [
    "def f1(a):\n",
    "    print(a)\n",
    "    print(b)\n"
   ]
  },
  {
   "cell_type": "code",
   "execution_count": 11,
   "metadata": {},
   "outputs": [
    {
     "name": "stdout",
     "output_type": "stream",
     "text": [
      "3\n"
     ]
    },
    {
     "ename": "NameError",
     "evalue": "name 'b' is not defined",
     "output_type": "error",
     "traceback": [
      "\u001b[0;31m---------------------------------------------------------------------------\u001b[0m",
      "\u001b[0;31mNameError\u001b[0m                                 Traceback (most recent call last)",
      "\u001b[0;32m<ipython-input-11-a636accabfae>\u001b[0m in \u001b[0;36m<module>\u001b[0;34m()\u001b[0m\n\u001b[0;32m----> 1\u001b[0;31m \u001b[0mf1\u001b[0m\u001b[0;34m(\u001b[0m\u001b[0;36m3\u001b[0m\u001b[0;34m)\u001b[0m\u001b[0;34m\u001b[0m\u001b[0m\n\u001b[0m",
      "\u001b[0;32m<ipython-input-9-06ba9b782704>\u001b[0m in \u001b[0;36mf1\u001b[0;34m(a)\u001b[0m\n\u001b[1;32m      1\u001b[0m \u001b[0;32mdef\u001b[0m \u001b[0mf1\u001b[0m\u001b[0;34m(\u001b[0m\u001b[0ma\u001b[0m\u001b[0;34m)\u001b[0m\u001b[0;34m:\u001b[0m\u001b[0;34m\u001b[0m\u001b[0m\n\u001b[1;32m      2\u001b[0m     \u001b[0mprint\u001b[0m\u001b[0;34m(\u001b[0m\u001b[0ma\u001b[0m\u001b[0;34m)\u001b[0m\u001b[0;34m\u001b[0m\u001b[0m\n\u001b[0;32m----> 3\u001b[0;31m     \u001b[0mprint\u001b[0m\u001b[0;34m(\u001b[0m\u001b[0mb\u001b[0m\u001b[0;34m)\u001b[0m\u001b[0;34m\u001b[0m\u001b[0m\n\u001b[0m",
      "\u001b[0;31mNameError\u001b[0m: name 'b' is not defined"
     ]
    }
   ],
   "source": [
    "f1(3)"
   ]
  },
  {
   "cell_type": "code",
   "execution_count": 14,
   "metadata": {},
   "outputs": [
    {
     "name": "stdout",
     "output_type": "stream",
     "text": [
      "3\n",
      "6\n"
     ]
    }
   ],
   "source": [
    "b = 6\n",
    "f1(3)"
   ]
  },
  {
   "cell_type": "code",
   "execution_count": 16,
   "metadata": {
    "collapsed": true
   },
   "outputs": [],
   "source": [
    "def f2(a):\n",
    "    print(a)\n",
    "    print(b)\n",
    "    b = 9 "
   ]
  },
  {
   "cell_type": "code",
   "execution_count": 18,
   "metadata": {},
   "outputs": [
    {
     "data": {
      "text/plain": [
       "6"
      ]
     },
     "execution_count": 18,
     "metadata": {},
     "output_type": "execute_result"
    }
   ],
   "source": [
    "b"
   ]
  },
  {
   "cell_type": "code",
   "execution_count": 21,
   "metadata": {},
   "outputs": [
    {
     "name": "stdout",
     "output_type": "stream",
     "text": [
      "10\n"
     ]
    },
    {
     "ename": "UnboundLocalError",
     "evalue": "local variable 'b' referenced before assignment",
     "output_type": "error",
     "traceback": [
      "\u001b[0;31m---------------------------------------------------------------------------\u001b[0m",
      "\u001b[0;31mUnboundLocalError\u001b[0m                         Traceback (most recent call last)",
      "\u001b[0;32m<ipython-input-21-2e96c53d0399>\u001b[0m in \u001b[0;36m<module>\u001b[0;34m()\u001b[0m\n\u001b[0;32m----> 1\u001b[0;31m \u001b[0mf2\u001b[0m\u001b[0;34m(\u001b[0m\u001b[0;36m10\u001b[0m\u001b[0;34m)\u001b[0m\u001b[0;34m\u001b[0m\u001b[0m\n\u001b[0m",
      "\u001b[0;32m<ipython-input-16-edbdb8a8715e>\u001b[0m in \u001b[0;36mf2\u001b[0;34m(a)\u001b[0m\n\u001b[1;32m      1\u001b[0m \u001b[0;32mdef\u001b[0m \u001b[0mf2\u001b[0m\u001b[0;34m(\u001b[0m\u001b[0ma\u001b[0m\u001b[0;34m)\u001b[0m\u001b[0;34m:\u001b[0m\u001b[0;34m\u001b[0m\u001b[0m\n\u001b[1;32m      2\u001b[0m     \u001b[0mprint\u001b[0m\u001b[0;34m(\u001b[0m\u001b[0ma\u001b[0m\u001b[0;34m)\u001b[0m\u001b[0;34m\u001b[0m\u001b[0m\n\u001b[0;32m----> 3\u001b[0;31m     \u001b[0mprint\u001b[0m\u001b[0;34m(\u001b[0m\u001b[0mb\u001b[0m\u001b[0;34m)\u001b[0m\u001b[0;34m\u001b[0m\u001b[0m\n\u001b[0m\u001b[1;32m      4\u001b[0m     \u001b[0mb\u001b[0m \u001b[0;34m=\u001b[0m \u001b[0;36m9\u001b[0m\u001b[0;34m\u001b[0m\u001b[0m\n",
      "\u001b[0;31mUnboundLocalError\u001b[0m: local variable 'b' referenced before assignment"
     ]
    }
   ],
   "source": [
    "f2(10)"
   ]
  },
  {
   "cell_type": "code",
   "execution_count": 24,
   "metadata": {
    "collapsed": true
   },
   "outputs": [],
   "source": [
    "def f1(a):\n",
    "    print(a)\n",
    "    print(b)\n"
   ]
  },
  {
   "cell_type": "code",
   "execution_count": 25,
   "metadata": {
    "collapsed": true
   },
   "outputs": [],
   "source": [
    "from dis import dis"
   ]
  },
  {
   "cell_type": "code",
   "execution_count": 26,
   "metadata": {},
   "outputs": [
    {
     "name": "stdout",
     "output_type": "stream",
     "text": [
      "  2           0 LOAD_GLOBAL              0 (print)\n",
      "              2 LOAD_FAST                0 (a)\n",
      "              4 CALL_FUNCTION            1\n",
      "              6 POP_TOP\n",
      "\n",
      "  3           8 LOAD_GLOBAL              0 (print)\n",
      "             10 LOAD_GLOBAL              1 (b)\n",
      "             12 CALL_FUNCTION            1\n",
      "             14 POP_TOP\n",
      "             16 LOAD_CONST               0 (None)\n",
      "             18 RETURN_VALUE\n"
     ]
    }
   ],
   "source": [
    "dis(f1)"
   ]
  },
  {
   "cell_type": "code",
   "execution_count": 28,
   "metadata": {},
   "outputs": [
    {
     "name": "stdout",
     "output_type": "stream",
     "text": [
      "  2           0 LOAD_GLOBAL              0 (print)\n",
      "              2 LOAD_FAST                0 (a)\n",
      "              4 CALL_FUNCTION            1\n",
      "              6 POP_TOP\n",
      "\n",
      "  3           8 LOAD_GLOBAL              0 (print)\n",
      "             10 LOAD_FAST                1 (b)\n",
      "             12 CALL_FUNCTION            1\n",
      "             14 POP_TOP\n",
      "\n",
      "  4          16 LOAD_CONST               1 (9)\n",
      "             18 STORE_FAST               1 (b)\n",
      "             20 LOAD_CONST               0 (None)\n",
      "             22 RETURN_VALUE\n"
     ]
    }
   ],
   "source": [
    "dis(f2)"
   ]
  },
  {
   "cell_type": "code",
   "execution_count": 33,
   "metadata": {
    "collapsed": true
   },
   "outputs": [],
   "source": [
    "def make_averager():\n",
    "    series = []\n",
    "    def averager(new_value):\n",
    "        series.append(new_value)\n",
    "        total = sum(series)\n",
    "        return total/len(series)\n",
    "    return averager\n",
    "        "
   ]
  },
  {
   "cell_type": "code",
   "execution_count": 36,
   "metadata": {},
   "outputs": [
    {
     "data": {
      "text/plain": [
       "10.0"
      ]
     },
     "execution_count": 36,
     "metadata": {},
     "output_type": "execute_result"
    }
   ],
   "source": [
    "avg = make_averager()\n",
    "avg(10)"
   ]
  },
  {
   "cell_type": "code",
   "execution_count": 38,
   "metadata": {},
   "outputs": [
    {
     "data": {
      "text/plain": [
       "10.666666666666666"
      ]
     },
     "execution_count": 38,
     "metadata": {},
     "output_type": "execute_result"
    }
   ],
   "source": [
    "avg(11)"
   ]
  },
  {
   "cell_type": "code",
   "execution_count": 39,
   "metadata": {},
   "outputs": [
    {
     "data": {
      "text/plain": [
       "11.0"
      ]
     },
     "execution_count": 39,
     "metadata": {},
     "output_type": "execute_result"
    }
   ],
   "source": [
    "avg(12)"
   ]
  },
  {
   "cell_type": "code",
   "execution_count": 41,
   "metadata": {},
   "outputs": [
    {
     "data": {
      "text/plain": [
       "('new_value', 'total')"
      ]
     },
     "execution_count": 41,
     "metadata": {},
     "output_type": "execute_result"
    }
   ],
   "source": [
    "avg.__code__.co_varnames"
   ]
  },
  {
   "cell_type": "code",
   "execution_count": 43,
   "metadata": {},
   "outputs": [
    {
     "data": {
      "text/plain": [
       "('series',)"
      ]
     },
     "execution_count": 43,
     "metadata": {},
     "output_type": "execute_result"
    }
   ],
   "source": [
    "avg.__code__.co_freevars"
   ]
  },
  {
   "cell_type": "code",
   "execution_count": null,
   "metadata": {
    "collapsed": true
   },
   "outputs": [],
   "source": []
  },
  {
   "cell_type": "code",
   "execution_count": 1,
   "metadata": {},
   "outputs": [
    {
     "ename": "NameError",
     "evalue": "name 'avg' is not defined",
     "output_type": "error",
     "traceback": [
      "\u001b[0;31m---------------------------------------------------------------------------\u001b[0m",
      "\u001b[0;31mNameError\u001b[0m                                 Traceback (most recent call last)",
      "\u001b[0;32m<ipython-input-1-f6cb925086ad>\u001b[0m in \u001b[0;36m<module>\u001b[0;34m()\u001b[0m\n\u001b[0;32m----> 1\u001b[0;31m \u001b[0mavg\u001b[0m\u001b[0;34m.\u001b[0m\u001b[0m__closure__\u001b[0m\u001b[0;34m[\u001b[0m\u001b[0;36m0\u001b[0m\u001b[0;34m]\u001b[0m\u001b[0;34m.\u001b[0m\u001b[0mcell_contents\u001b[0m\u001b[0;34m\u001b[0m\u001b[0m\n\u001b[0m",
      "\u001b[0;31mNameError\u001b[0m: name 'avg' is not defined"
     ]
    }
   ],
   "source": [
    "avg.__closure__[0].cell_contents"
   ]
  },
  {
   "cell_type": "code",
   "execution_count": 2,
   "metadata": {
    "collapsed": true
   },
   "outputs": [],
   "source": [
    "import time"
   ]
  },
  {
   "cell_type": "code",
   "execution_count": 4,
   "metadata": {
    "collapsed": true
   },
   "outputs": [],
   "source": [
    "import time\n",
    "\n",
    "def clock(func):\n",
    "    def clocked(*args):\n",
    "        t0 = time.perf_counter()\n",
    "        result = func(*args)\n",
    "        elapsed = time.perf_counter() - t0\n",
    "        name = func.__name__\n",
    "        arg_str = ', '.join(repr(arg) for arg in args)\n",
    "        print('[%0.8fs] %s(%s) -> %r' %(elapsed, name, arg_str, result))\n",
    "        return result\n",
    "    return clocked\n",
    "\n",
    "\n",
    "\n",
    "\n"
   ]
  },
  {
   "cell_type": "code",
   "execution_count": 6,
   "metadata": {},
   "outputs": [
    {
     "name": "stdout",
     "output_type": "stream",
     "text": [
      "**************************************** Calling snooze(.123)\n",
      "[0.12316735s] snooze(0.123) -> None\n",
      "**************************************** Calling factorial(6)\n",
      "[0.00000175s] factorial(1) -> 1\n",
      "[0.00020904s] factorial(2) -> 2\n",
      "[0.00040375s] factorial(3) -> 6\n",
      "[0.00059728s] factorial(4) -> 24\n",
      "[0.00080632s] factorial(5) -> 120\n",
      "[0.00100034s] factorial(6) -> 720\n",
      "6! =  720\n"
     ]
    }
   ],
   "source": [
    "@clock\n",
    "def snooze(seconds):\n",
    "    time.sleep(seconds)\n",
    "\n",
    "@clock\n",
    "def factorial(n):\n",
    "    return 1 if n < 2 else n * factorial(n-1)\n",
    "\n",
    "print('*'*40, 'Calling snooze(.123)')\n",
    "snooze(.123)\n",
    "print('*'*40, 'Calling factorial(6)')\n",
    "print('6! = ', factorial(6))"
   ]
  },
  {
   "cell_type": "code",
   "execution_count": 28,
   "metadata": {
    "collapsed": true
   },
   "outputs": [],
   "source": [
    "import time\n",
    "\n",
    "import functools\n",
    "\n",
    "def clock(func):\n",
    "    @functools.wraps(func)\n",
    "    def clocked(*args, **kwargs):\n",
    "        t0 = time.time()\n",
    "        result = func(*args, **kwargs)\n",
    "        elapsed = time.time() - t0\n",
    "        name = func.__name__\n",
    "        arg_lst = []\n",
    "        if args:\n",
    "            arg_lst.append(', '.join(repr(arg) for arg in args))\n",
    "        if kwargs:\n",
    "            pairs = ['%s=%r' %(k,w) for k, w in sorted(kwargs.items())]\n",
    "            arg_lst.append(', '.join(pairs))\n",
    "        arg_str= ', '.join(arg_lst)\n",
    "        print('[%0.8fs] %s(%s) -> %r ' %(elapsed, name, arg_str, result))\n",
    "        return result\n",
    "    return clocked\n"
   ]
  },
  {
   "cell_type": "code",
   "execution_count": 29,
   "metadata": {},
   "outputs": [],
   "source": [
    "@clock\n",
    "def fib(n):\n",
    "    if n < 2:\n",
    "        return n\n",
    "    \n",
    "    return fib(n-2) + fib(n-1)\n"
   ]
  },
  {
   "cell_type": "code",
   "execution_count": 30,
   "metadata": {},
   "outputs": [
    {
     "name": "stdout",
     "output_type": "stream",
     "text": [
      "[0.00000381s] fib(0) -> 0 \n",
      "[0.00000572s] fib(1) -> 1 \n",
      "[0.00223851s] fib(2) -> 1 \n",
      "[0.00000381s] fib(1) -> 1 \n",
      "[0.00000429s] fib(0) -> 0 \n",
      "[0.00000477s] fib(1) -> 1 \n",
      "[0.00024295s] fib(2) -> 1 \n",
      "[0.00077391s] fib(3) -> 2 \n",
      "[0.00369906s] fib(4) -> 3 \n",
      "[0.00000334s] fib(1) -> 1 \n",
      "[0.00000310s] fib(0) -> 0 \n",
      "[0.00000453s] fib(1) -> 1 \n",
      "[0.00022221s] fib(2) -> 1 \n",
      "[0.00043893s] fib(3) -> 2 \n",
      "[0.00000334s] fib(0) -> 0 \n",
      "[0.00000453s] fib(1) -> 1 \n",
      "[0.00022602s] fib(2) -> 1 \n",
      "[0.00000334s] fib(1) -> 1 \n",
      "[0.00000381s] fib(0) -> 0 \n",
      "[0.00000453s] fib(1) -> 1 \n",
      "[0.00022388s] fib(2) -> 1 \n",
      "[0.00043750s] fib(3) -> 2 \n",
      "[0.00087476s] fib(4) -> 3 \n",
      "[0.00152349s] fib(5) -> 5 \n",
      "[0.00544667s] fib(6) -> 8 \n",
      "8\n"
     ]
    }
   ],
   "source": [
    "print(fib(6))"
   ]
  },
  {
   "cell_type": "code",
   "execution_count": 32,
   "metadata": {
    "collapsed": true
   },
   "outputs": [],
   "source": [
    "@functools.lru_cache()\n",
    "@clock\n",
    "def fib(n):\n",
    "    if n < 2:\n",
    "        return n\n",
    "    \n",
    "    return fib(n-2) + fib(n-1)"
   ]
  },
  {
   "cell_type": "code",
   "execution_count": 37,
   "metadata": {
    "scrolled": true
   },
   "outputs": [
    {
     "name": "stdout",
     "output_type": "stream",
     "text": [
      "[0.00000691s] fib(11) -> 89 \n",
      "[0.01555729s] fib(12) -> 144 \n",
      "[0.00000477s] fib(13) -> 233 \n",
      "[0.01619482s] fib(14) -> 377 \n",
      "[0.00000429s] fib(15) -> 610 \n",
      "[0.01679659s] fib(16) -> 987 \n",
      "[0.00000453s] fib(17) -> 1597 \n",
      "[0.01738048s] fib(18) -> 2584 \n",
      "[0.00000429s] fib(19) -> 4181 \n",
      "[0.01797867s] fib(20) -> 6765 \n",
      "[0.00000644s] fib(21) -> 10946 \n",
      "[0.02119184s] fib(22) -> 17711 \n",
      "[0.00000429s] fib(23) -> 28657 \n",
      "[0.02178454s] fib(24) -> 46368 \n",
      "[0.00000429s] fib(25) -> 75025 \n",
      "[0.02236819s] fib(26) -> 121393 \n",
      "[0.00000429s] fib(27) -> 196418 \n",
      "[0.02297544s] fib(28) -> 317811 \n",
      "[0.00000453s] fib(29) -> 514229 \n",
      "[0.02356625s] fib(30) -> 832040 \n",
      "[0.00000405s] fib(31) -> 1346269 \n",
      "[0.02414703s] fib(32) -> 2178309 \n",
      "[0.00000429s] fib(33) -> 3524578 \n",
      "[0.02472997s] fib(34) -> 5702887 \n",
      "[0.00000405s] fib(35) -> 9227465 \n",
      "[0.02531576s] fib(36) -> 14930352 \n",
      "[0.00000453s] fib(37) -> 24157817 \n",
      "[0.02593040s] fib(38) -> 39088169 \n",
      "[0.00000453s] fib(39) -> 63245986 \n",
      "[0.02651501s] fib(40) -> 102334155 \n",
      "[0.00000453s] fib(41) -> 165580141 \n",
      "[0.02709365s] fib(42) -> 267914296 \n",
      "[0.00000429s] fib(43) -> 433494437 \n",
      "[0.02758646s] fib(44) -> 701408733 \n",
      "[0.00000429s] fib(45) -> 1134903170 \n",
      "[0.02771282s] fib(46) -> 1836311903 \n",
      "[0.00000405s] fib(47) -> 2971215073 \n",
      "[0.02783227s] fib(48) -> 4807526976 \n",
      "[0.00000429s] fib(49) -> 7778742049 \n",
      "[0.02795291s] fib(50) -> 12586269025 \n",
      "[0.00000405s] fib(51) -> 20365011074 \n",
      "[0.02807188s] fib(52) -> 32951280099 \n",
      "[0.00000381s] fib(53) -> 53316291173 \n",
      "[0.02818990s] fib(54) -> 86267571272 \n",
      "[0.00000358s] fib(55) -> 139583862445 \n",
      "[0.02830958s] fib(56) -> 225851433717 \n",
      "[0.00000429s] fib(57) -> 365435296162 \n",
      "[0.02842832s] fib(58) -> 591286729879 \n",
      "[0.00000358s] fib(59) -> 956722026041 \n",
      "[0.02854586s] fib(60) -> 1548008755920 \n",
      "[0.00000381s] fib(61) -> 2504730781961 \n",
      "[0.02866387s] fib(62) -> 4052739537881 \n",
      "[0.00000358s] fib(63) -> 6557470319842 \n",
      "[0.02877998s] fib(64) -> 10610209857723 \n",
      "[0.00000381s] fib(65) -> 17167680177565 \n",
      "[0.02890182s] fib(66) -> 27777890035288 \n",
      "[0.00000381s] fib(67) -> 44945570212853 \n",
      "[0.03372073s] fib(68) -> 72723460248141 \n",
      "[0.00000453s] fib(69) -> 117669030460994 \n",
      "[0.03386807s] fib(70) -> 190392490709135 \n",
      "[0.00000405s] fib(71) -> 308061521170129 \n",
      "[0.03398561s] fib(72) -> 498454011879264 \n",
      "[0.00000381s] fib(73) -> 806515533049393 \n",
      "[0.03410292s] fib(74) -> 1304969544928657 \n",
      "[0.00000405s] fib(75) -> 2111485077978050 \n",
      "[0.03421903s] fib(76) -> 3416454622906707 \n",
      "[0.00000381s] fib(77) -> 5527939700884757 \n",
      "[0.03433537s] fib(78) -> 8944394323791464 \n",
      "[0.00000405s] fib(79) -> 14472334024676221 \n",
      "[0.03445268s] fib(80) -> 23416728348467685 \n",
      "[0.00000358s] fib(81) -> 37889062373143906 \n",
      "[0.03456974s] fib(82) -> 61305790721611591 \n",
      "[0.00000381s] fib(83) -> 99194853094755497 \n",
      "[0.03468728s] fib(84) -> 160500643816367088 \n",
      "[0.00000381s] fib(85) -> 259695496911122585 \n",
      "[0.03481007s] fib(86) -> 420196140727489673 \n",
      "[0.00000405s] fib(87) -> 679891637638612258 \n",
      "[0.03872561s] fib(88) -> 1100087778366101931 \n",
      "[0.00000501s] fib(89) -> 1779979416004714189 \n",
      "[0.03886628s] fib(90) -> 2880067194370816120 \n",
      "[0.00000429s] fib(91) -> 4660046610375530309 \n",
      "[0.03898525s] fib(92) -> 7540113804746346429 \n",
      "[0.00000381s] fib(93) -> 12200160415121876738 \n",
      "[0.03910303s] fib(94) -> 19740274219868223167 \n",
      "[0.00000358s] fib(95) -> 31940434634990099905 \n",
      "[0.03922081s] fib(96) -> 51680708854858323072 \n",
      "[0.00000381s] fib(97) -> 83621143489848422977 \n",
      "[0.03933692s] fib(98) -> 135301852344706746049 \n",
      "[0.00000405s] fib(99) -> 218922995834555169026 \n",
      "[0.03947520s] fib(100) -> 354224848179261915075 \n",
      "[0.00000381s] fib(101) -> 573147844013817084101 \n",
      "[0.03959322s] fib(102) -> 927372692193078999176 \n",
      "[0.00000405s] fib(103) -> 1500520536206896083277 \n",
      "[0.03971004s] fib(104) -> 2427893228399975082453 \n",
      "[0.00000381s] fib(105) -> 3928413764606871165730 \n",
      "[0.03982639s] fib(106) -> 6356306993006846248183 \n",
      "[0.00000381s] fib(107) -> 10284720757613717413913 \n",
      "[0.03994393s] fib(108) -> 16641027750620563662096 \n",
      "[0.00000381s] fib(109) -> 26925748508234281076009 \n",
      "[0.04006910s] fib(110) -> 43566776258854844738105 \n",
      "43566776258854844738105\n"
     ]
    }
   ],
   "source": [
    "print(fib(110))"
   ]
  },
  {
   "cell_type": "code",
   "execution_count": null,
   "metadata": {
    "collapsed": true
   },
   "outputs": [],
   "source": []
  }
 ],
 "metadata": {
  "kernelspec": {
   "display_name": "Python 3",
   "language": "python",
   "name": "python3"
  },
  "language_info": {
   "codemirror_mode": {
    "name": "ipython",
    "version": 3
   },
   "file_extension": ".py",
   "mimetype": "text/x-python",
   "name": "python",
   "nbconvert_exporter": "python",
   "pygments_lexer": "ipython3",
   "version": "3.6.1"
  }
 },
 "nbformat": 4,
 "nbformat_minor": 2
}
