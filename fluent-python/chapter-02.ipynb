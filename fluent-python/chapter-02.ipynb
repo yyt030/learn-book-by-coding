{
 "cells": [
  {
   "cell_type": "markdown",
   "metadata": {},
   "source": [
    "# 序列构成的书数组"
   ]
  },
  {
   "cell_type": "markdown",
   "metadata": {},
   "source": [
    "## 2.1 内置序列类型概述"
   ]
  },
  {
   "cell_type": "markdown",
   "metadata": {},
   "source": [
    "依照存放内容分类：\n",
    "+ 容器序列： 存放所包含的任意类型的对象的引用\n",
    "list, tuple, collections.deque\n",
    "+ 扁平序列： 存放的是值而不是引用，是一段连续的内存空间。\n",
    "str, bytes, bytearray, memoryview, array.array\n",
    "\n",
    "依照是否可以改变分类：\n",
    "+ 可变序列\n",
    "list, bytearray, array.array, collections.deque, memoryview\n",
    "+ 不可变序列\n",
    "tuple, str, bytes"
   ]
  },
  {
   "cell_type": "markdown",
   "metadata": {},
   "source": [
    "## 2.2 列表推导和生成器表达式"
   ]
  },
  {
   "cell_type": "markdown",
   "metadata": {},
   "source": [
    "### 2.2.1 列表推导和可读性"
   ]
  },
  {
   "cell_type": "code",
   "execution_count": 7,
   "metadata": {
    "collapsed": true
   },
   "outputs": [],
   "source": [
    "symbols = 'CDEFGAB'\n",
    "codes = []\n",
    "for symbol in symbols:\n",
    "    codes.append(ord(symbol))"
   ]
  },
  {
   "cell_type": "code",
   "execution_count": 8,
   "metadata": {},
   "outputs": [
    {
     "data": {
      "text/plain": [
       "[67, 68, 69, 70, 71, 65, 66]"
      ]
     },
     "execution_count": 8,
     "metadata": {},
     "output_type": "execute_result"
    }
   ],
   "source": [
    "codes"
   ]
  },
  {
   "cell_type": "code",
   "execution_count": 11,
   "metadata": {
    "collapsed": true
   },
   "outputs": [],
   "source": [
    "codes_a = [ord(symbol) for symbol in symbols]"
   ]
  },
  {
   "cell_type": "code",
   "execution_count": 12,
   "metadata": {},
   "outputs": [
    {
     "data": {
      "text/plain": [
       "[67, 68, 69, 70, 71, 65, 66]"
      ]
     },
     "execution_count": 12,
     "metadata": {},
     "output_type": "execute_result"
    }
   ],
   "source": [
    "codes_a"
   ]
  },
  {
   "cell_type": "code",
   "execution_count": 15,
   "metadata": {},
   "outputs": [
    {
     "data": {
      "text/plain": [
       "('this is test', ['C', 'D', 'E', 'F', 'G', 'A', 'B'])"
      ]
     },
     "execution_count": 15,
     "metadata": {},
     "output_type": "execute_result"
    }
   ],
   "source": [
    "x = 'this is test'\n",
    "dummy = [x for x in 'CDEFGAB']\n",
    "x,dummy"
   ]
  },
  {
   "cell_type": "markdown",
   "metadata": {},
   "source": [
    "### 2.2.2 列表推导同filter,map 比较\n",
    "### 2.2.3 笛卡尔积"
   ]
  },
  {
   "cell_type": "markdown",
   "metadata": {},
   "source": [
    "### 2.2.4 生成器表达式"
   ]
  },
  {
   "cell_type": "markdown",
   "metadata": {},
   "source": [
    "## 2.3 元组不仅仅是不可变的列表"
   ]
  },
  {
   "cell_type": "markdown",
   "metadata": {},
   "source": [
    "### 2.3.1 元组与记录"
   ]
  },
  {
   "cell_type": "code",
   "execution_count": 20,
   "metadata": {
    "collapsed": true
   },
   "outputs": [],
   "source": [
    "lax_coordinates = (33.123,-10912.232)\n",
    "city,year,pop,chg,area = ('Tokyo',2003,32450, 0.66, 8014)\n",
    "traveler_ids = [('USA','43223123'),('BRA','CEERE012'),('ESP','XDA205856')]"
   ]
  },
  {
   "cell_type": "code",
   "execution_count": 21,
   "metadata": {},
   "outputs": [
    {
     "name": "stdout",
     "output_type": "stream",
     "text": [
      "BRA/CEERE012\n",
      "ESP/XDA205856\n",
      "USA/43223123\n"
     ]
    }
   ],
   "source": [
    "for passport in sorted(traveler_ids):\n",
    "    print('%s/%s' %passport)"
   ]
  },
  {
   "cell_type": "markdown",
   "metadata": {},
   "source": [
    "### 2.3.2 元组拆包"
   ]
  },
  {
   "cell_type": "code",
   "execution_count": null,
   "metadata": {
    "collapsed": true
   },
   "outputs": [],
   "source": []
  }
 ],
 "metadata": {
  "kernelspec": {
   "display_name": "Python 3",
   "language": "python",
   "name": "python3"
  },
  "language_info": {
   "codemirror_mode": {
    "name": "ipython",
    "version": 3
   },
   "file_extension": ".py",
   "mimetype": "text/x-python",
   "name": "python",
   "nbconvert_exporter": "python",
   "pygments_lexer": "ipython3",
   "version": "3.5.2"
  }
 },
 "nbformat": 4,
 "nbformat_minor": 2
}
